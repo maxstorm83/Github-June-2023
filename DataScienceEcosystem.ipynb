{
 "cells": [
  {
   "cell_type": "markdown",
   "id": "fbfca239-8901-4b29-ba28-416203aaea47",
   "metadata": {},
   "source": [
    "# Data Science Tools and Ecosystem"
   ]
  },
  {
   "cell_type": "markdown",
   "id": "98ca81dc-c73f-46f5-ad5b-855ecc52a844",
   "metadata": {},
   "source": [
    "In this notebook, Data Science Tools and Ecosystem are summarized."
   ]
  },
  {
   "cell_type": "markdown",
   "id": "db1cffa5-8239-41ba-95e6-60de2fa6e779",
   "metadata": {},
   "source": [
    "**some of the key takeaways from the course:**\n",
    "- Some of popular languages for Data Science\n",
    "- Some of popular tool for Data Science\n",
    "- Some example of arithmetic expression in Python"
   ]
  },
  {
   "cell_type": "markdown",
   "id": "26502140-87a3-43ed-a2d4-8e037dd96806",
   "metadata": {},
   "source": [
    "Some of the popular languages that Data Scientists use are:\n",
    "1. Python\n",
    "2. R\n",
    "3. SQL\n",
    "4. C\n",
    "5. C++\n",
    "6. Scala"
   ]
  },
  {
   "cell_type": "markdown",
   "id": "89e1956b-9b22-4619-a357-8eeb2959d6ef",
   "metadata": {
    "jupyter": {
     "source_hidden": true
    },
    "tags": []
   },
   "source": [
    "Some of the commonly used libraries used by Data Scientists include:\n",
    "1. Pandas\n",
    "2. Numpy\n",
    "3. Matplotlib\n",
    "4. Seaborn\n",
    "5. Scikit-learn\n",
    "6. Keras"
   ]
  },
  {
   "cell_type": "markdown",
   "id": "805add38-a3dd-478d-9533-703a7f74ea2c",
   "metadata": {},
   "source": [
    "|Data Science Tools|\n",
    "--------\n",
    "|Jupiter Notebooks|\n",
    "|Apache Zeppelin|\n",
    "|RStudio|"
   ]
  },
  {
   "cell_type": "markdown",
   "id": "f7803793-9094-4fae-a2b7-3239b24a362f",
   "metadata": {},
   "source": [
    "### Below are a few examples of evaluating arithmetic expressions in Python"
   ]
  },
  {
   "cell_type": "code",
   "execution_count": 5,
   "id": "d9cdddf7-2c56-4783-b187-f400f93f13f4",
   "metadata": {
    "tags": []
   },
   "outputs": [
    {
     "data": {
      "text/plain": [
       "17"
      ]
     },
     "execution_count": 5,
     "metadata": {},
     "output_type": "execute_result"
    }
   ],
   "source": [
    "#This a simple arithmetic expression to mutiply then add integers\n",
    "(3*4)+5"
   ]
  },
  {
   "cell_type": "code",
   "execution_count": 6,
   "id": "80ac0a36-5bfe-4783-8d0f-7f500ff86974",
   "metadata": {
    "tags": []
   },
   "outputs": [
    {
     "data": {
      "text/plain": [
       "3.3333333333333335"
      ]
     },
     "execution_count": 6,
     "metadata": {},
     "output_type": "execute_result"
    }
   ],
   "source": [
    "#This will convert 200 minutes to hours by diving by 60\n",
    "200/60"
   ]
  },
  {
   "cell_type": "markdown",
   "id": "6aaf87f6-113b-4940-980d-e972c959200c",
   "metadata": {},
   "source": [
    "## Author\n",
    "Vu Nguyen"
   ]
  },
  {
   "cell_type": "code",
   "execution_count": null,
   "id": "b5512ba4-1660-4141-b78f-77939e5ef213",
   "metadata": {},
   "outputs": [],
   "source": []
  }
 ],
 "metadata": {
  "kernelspec": {
   "display_name": "Python",
   "language": "python",
   "name": "conda-env-python-py"
  },
  "language_info": {
   "codemirror_mode": {
    "name": "ipython",
    "version": 3
   },
   "file_extension": ".py",
   "mimetype": "text/x-python",
   "name": "python",
   "nbconvert_exporter": "python",
   "pygments_lexer": "ipython3",
   "version": "3.7.12"
  }
 },
 "nbformat": 4,
 "nbformat_minor": 5
}
